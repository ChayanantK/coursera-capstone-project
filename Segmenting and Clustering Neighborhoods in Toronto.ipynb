{
    "nbformat_minor": 1, 
    "cells": [
        {
            "source": "## Segmenting and Clustering Neighborhoods in Toronto", 
            "cell_type": "markdown", 
            "metadata": {
                "collapsed": true
            }
        }, 
        {
            "source": "### Import lib", 
            "cell_type": "markdown", 
            "metadata": {}
        }, 
        {
            "execution_count": null, 
            "cell_type": "code", 
            "metadata": {}, 
            "outputs": [], 
            "source": "import requests\nfrom bs4 import BeautifulSoup\nimport pandas as pd"
        }, 
        {
            "source": "### Scraping from the web", 
            "cell_type": "markdown", 
            "metadata": {}
        }, 
        {
            "execution_count": 22, 
            "cell_type": "code", 
            "metadata": {}, 
            "outputs": [], 
            "source": "url = 'https://en.wikipedia.org/wiki/List_of_postal_codes_of_Canada:_M'"
        }, 
        {
            "execution_count": 23, 
            "cell_type": "code", 
            "metadata": {}, 
            "outputs": [], 
            "source": "res = requests.get(url)\nsoup = BeautifulSoup(res.content, \"html.parser\")"
        }, 
        {
            "execution_count": 49, 
            "cell_type": "code", 
            "metadata": {}, 
            "outputs": [], 
            "source": "table = soup.find_all('table', class_= \"wikitable sortable\")[0]"
        }, 
        {
            "source": "### Get header of table", 
            "cell_type": "markdown", 
            "metadata": {}
        }, 
        {
            "execution_count": 86, 
            "cell_type": "code", 
            "metadata": {}, 
            "outputs": [
                {
                    "execution_count": 86, 
                    "metadata": {}, 
                    "data": {
                        "text/plain": "['Postcode', 'Borough', 'Neighbourhood\\n']"
                    }, 
                    "output_type": "execute_result"
                }
            ], 
            "source": "HeadListRaw = []\nfor row in table.find_all('th'):\n    HeadListRaw.append(row.text)\nHeadListRaw"
        }, 
        {
            "execution_count": 88, 
            "cell_type": "code", 
            "metadata": {}, 
            "outputs": [
                {
                    "execution_count": 88, 
                    "metadata": {}, 
                    "data": {
                        "text/plain": "['Postcode', 'Borough', 'Neighbourhood']"
                    }, 
                    "output_type": "execute_result"
                }
            ], 
            "source": "HeadList = []\nfor cell in HeadListRaw:\n    HeadList.append(cell.strip('\\n'))\nHeadList    "
        }, 
        {
            "source": "### Get data in table", 
            "cell_type": "markdown", 
            "metadata": {}
        }, 
        {
            "execution_count": 91, 
            "cell_type": "code", 
            "metadata": {}, 
            "outputs": [
                {
                    "execution_count": 91, 
                    "metadata": {}, 
                    "data": {
                        "text/plain": "['M1A',\n 'Not assigned',\n 'Not assigned',\n 'M2A',\n 'Not assigned',\n 'Not assigned',\n 'M3A',\n 'North York',\n 'Parkwoods',\n 'M4A',\n 'North York',\n 'Victoria Village',\n 'M5A',\n 'Downtown Toronto',\n 'Harbourfront',\n 'M5A',\n 'Downtown Toronto',\n 'Regent Park',\n 'M6A',\n 'North York',\n 'Lawrence Heights',\n 'M6A',\n 'North York',\n 'Lawrence Manor',\n 'M7A',\n \"Queen's Park\",\n 'Not assigned',\n 'M8A',\n 'Not assigned',\n 'Not assigned',\n 'M9A',\n 'Etobicoke',\n 'Islington Avenue',\n 'M1B',\n 'Scarborough',\n 'Rouge',\n 'M1B',\n 'Scarborough',\n 'Malvern',\n 'M2B',\n 'Not assigned',\n 'Not assigned',\n 'M3B',\n 'North York',\n 'Don Mills North',\n 'M4B',\n 'East York',\n 'Woodbine Gardens',\n 'M4B',\n 'East York',\n 'Parkview Hill',\n 'M5B',\n 'Downtown Toronto',\n 'Ryerson',\n 'M5B',\n 'Downtown Toronto',\n 'Garden District',\n 'M6B',\n 'North York',\n 'Glencairn',\n 'M7B',\n 'Not assigned',\n 'Not assigned',\n 'M8B',\n 'Not assigned',\n 'Not assigned',\n 'M9B',\n 'Etobicoke',\n 'Cloverdale',\n 'M9B',\n 'Etobicoke',\n 'Islington',\n 'M9B',\n 'Etobicoke',\n 'Martin Grove',\n 'M9B',\n 'Etobicoke',\n 'Princess Gardens',\n 'M9B',\n 'Etobicoke',\n 'West Deane Park',\n 'M1C',\n 'Scarborough',\n 'Highland Creek',\n 'M1C',\n 'Scarborough',\n 'Rouge Hill',\n 'M1C',\n 'Scarborough',\n 'Port Union',\n 'M2C',\n 'Not assigned',\n 'Not assigned',\n 'M3C',\n 'North York',\n 'Flemingdon Park',\n 'M3C',\n 'North York',\n 'Don Mills South',\n 'M4C',\n 'East York',\n 'Woodbine Heights',\n 'M5C',\n 'Downtown Toronto',\n 'St. James Town',\n 'M6C',\n 'York',\n 'Humewood-Cedarvale',\n 'M7C',\n 'Not assigned',\n 'Not assigned',\n 'M8C',\n 'Not assigned',\n 'Not assigned',\n 'M9C',\n 'Etobicoke',\n 'Bloordale Gardens',\n 'M9C',\n 'Etobicoke',\n 'Eringate',\n 'M9C',\n 'Etobicoke',\n 'Markland Wood',\n 'M9C',\n 'Etobicoke',\n 'Old Burnhamthorpe',\n 'M1E',\n 'Scarborough',\n 'Guildwood]]',\n 'M1E',\n 'Scarborough',\n 'Morningside',\n 'M1E',\n 'Scarborough',\n 'West Hill',\n 'M2E',\n 'Not assigned',\n 'Not assigned',\n 'M3E',\n 'Not assigned',\n 'Not assigned',\n 'M4E',\n 'East Toronto',\n 'The Beaches',\n 'M5E',\n 'Downtown Toronto',\n 'Berczy Park',\n 'M6E',\n 'York',\n 'Caledonia-Fairbanks]]',\n 'M7E',\n 'Not assigned',\n 'Not assigned',\n 'M8E',\n 'Not assigned',\n 'Not assigned',\n 'M9E',\n 'Not assigned',\n 'Not assigned',\n 'M1G',\n 'Scarborough',\n 'Woburn',\n 'M2G',\n 'Not assigned',\n 'Not assigned',\n 'M3G',\n 'Not assigned',\n 'Not assigned',\n 'M4G',\n 'East York',\n 'Leaside',\n 'M5G',\n 'Downtown Toronto',\n 'Central Bay Street',\n 'M6G',\n 'Downtown Toronto',\n 'Christie',\n 'M7G',\n 'Not assigned',\n 'Not assigned',\n 'M8G',\n 'Not assigned',\n 'Not assigned',\n 'M9G',\n 'Not assigned',\n 'Not assigned',\n 'M1H',\n 'Scarborough',\n 'Cedarbrae',\n 'M2H',\n 'North York',\n 'Hillcrest Village',\n 'M3H',\n 'North York',\n 'Bathurst Manor',\n 'M3H',\n 'North York',\n 'Downsview North',\n 'M3H',\n 'North York',\n 'Wilson Heights',\n 'M4H',\n 'East York',\n 'Thorncliffe Park',\n 'M5H',\n 'Downtown Toronto',\n 'Adelaide',\n 'M5H',\n 'Downtown Toronto',\n 'King',\n 'M5H',\n 'Downtown Toronto',\n 'Richmond',\n 'M6H',\n 'West Toronto',\n 'Dovercourt Village',\n 'M6H',\n 'West Toronto',\n 'Dufferin',\n 'M7H',\n 'Not assigned',\n 'Not assigned',\n 'M8H',\n 'Not assigned',\n 'Not assigned',\n 'M9H',\n 'Not assigned',\n 'Not assigned',\n 'M1J',\n 'Scarborough',\n 'Scarborough Village',\n 'M2J',\n 'North York',\n 'Fairview',\n 'M2J',\n 'North York',\n 'Henry Farm',\n 'M2J',\n 'North York',\n 'Oriole',\n 'M3J',\n 'North York',\n 'Northwood Park',\n 'M3J',\n 'North York',\n 'York University',\n 'M4J',\n 'East York',\n 'East Toronto',\n 'M5J',\n 'Downtown Toronto',\n 'Harbourfront East',\n 'M5J',\n 'Downtown Toronto',\n 'Toronto Islands',\n 'M5J',\n 'Downtown Toronto',\n 'Union Station',\n 'M6J',\n 'West Toronto',\n 'Little Portugal',\n 'M6J',\n 'West Toronto',\n 'Trinity',\n 'M7J',\n 'Not assigned',\n 'Not assigned',\n 'M8J',\n 'Not assigned',\n 'Not assigned',\n 'M9J',\n 'Not assigned',\n 'Not assigned',\n 'M1K',\n 'Scarborough',\n 'East Birchmount Park',\n 'M1K',\n 'Scarborough',\n 'Ionview',\n 'M1K',\n 'Scarborough',\n 'Kennedy Park',\n 'M2K',\n 'North York',\n 'Bayview Village',\n 'M3K',\n 'North York',\n 'CFB Toronto',\n 'M3K',\n 'North York',\n 'Downsview East',\n 'M4K',\n 'East Toronto',\n 'The Danforth West',\n 'M4K',\n 'East Toronto',\n 'Riverdale',\n 'M5K',\n 'Downtown Toronto',\n 'Design Exchange',\n 'M5K',\n 'Downtown Toronto',\n 'Toronto Dominion Centre',\n 'M6K',\n 'West Toronto',\n 'Brockton',\n 'M6K',\n 'West Toronto',\n 'Exhibition Place',\n 'M6K',\n 'West Toronto',\n 'Parkdale Village',\n 'M7K',\n 'Not assigned',\n 'Not assigned',\n 'M8K',\n 'Not assigned',\n 'Not assigned',\n 'M9K',\n 'Not assigned',\n 'Not assigned',\n 'M1L',\n 'Scarborough',\n 'Clairlea',\n 'M1L',\n 'Scarborough',\n 'Golden Mile',\n 'M1L',\n 'Scarborough',\n 'Oakridge',\n 'M2L',\n 'North York',\n 'Silver Hills',\n 'M2L',\n 'North York',\n 'York Mills',\n 'M3L',\n 'North York',\n 'Downsview West',\n 'M4L',\n 'East Toronto',\n 'The Beaches West',\n 'M4L',\n 'East Toronto',\n 'India Bazaar',\n 'M5L',\n 'Downtown Toronto',\n 'Commerce Court',\n 'M5L',\n 'Downtown Toronto',\n 'Victoria Hotel',\n 'M6L',\n 'North York',\n 'Maple Leaf Park',\n 'M6L',\n 'North York',\n 'North Park',\n 'M6L',\n 'North York',\n 'Upwood Park',\n 'M7L',\n 'Not assigned',\n 'Not assigned',\n 'M8L',\n 'Not assigned',\n 'Not assigned',\n 'M9L',\n 'North York',\n 'Humber Summit',\n 'M1M',\n 'Scarborough',\n 'Cliffcrest',\n 'M1M',\n 'Scarborough',\n 'Cliffside',\n 'M1M',\n 'Scarborough',\n 'Scarborough Village West',\n 'M2M',\n 'North York',\n 'Newtonbrook',\n 'M2M',\n 'North York',\n 'Willowdale',\n 'M3M',\n 'North York',\n 'Downsview Central',\n 'M4M',\n 'East Toronto',\n 'Studio District',\n 'M5M',\n 'North York',\n 'Bedford Park',\n 'M5M',\n 'North York',\n 'Lawrence Manor East',\n 'M6M',\n 'York',\n 'Del Ray',\n 'M6M',\n 'York',\n 'Keelsdale',\n 'M6M',\n 'York',\n 'Mount Dennis',\n 'M6M',\n 'York',\n 'Silverthorn',\n 'M7M',\n 'Not assigned',\n 'Not assigned',\n 'M8M',\n 'Not assigned',\n 'Not assigned',\n 'M9M',\n 'North York',\n 'Emery',\n 'M9M',\n 'North York',\n 'Humberlea',\n 'M1N',\n 'Scarborough',\n 'Birch Cliff',\n 'M1N',\n 'Scarborough',\n 'Cliffside West',\n 'M2N',\n 'North York',\n 'Willowdale South',\n 'M3N',\n 'North York',\n 'Downsview Northwest',\n 'M4N',\n 'Central Toronto',\n 'Lawrence Park',\n 'M5N',\n 'Central Toronto',\n 'Roselawn',\n 'M6N',\n 'York',\n ']The Junction North]]',\n 'M6N',\n 'York',\n 'Runnymede]]',\n 'M7N',\n 'Not assigned',\n 'Not assigned',\n 'M8N',\n 'Not assigned',\n 'Not assigned',\n 'M9N',\n 'York',\n 'Weston',\n 'M1P',\n 'Scarborough',\n 'Dorset Park',\n 'M1P',\n 'Scarborough',\n 'Scarborough Town Centre',\n 'M1P',\n 'Scarborough',\n 'Wexford Heights',\n 'M2P',\n 'North York',\n 'York Mills West',\n 'M3P',\n 'Not assigned',\n 'Not assigned',\n 'M4P',\n 'Central Toronto',\n 'Davisville North',\n 'M5P',\n 'Central Toronto',\n 'Forest Hill North',\n 'M5P',\n 'Central Toronto',\n 'Forest Hill West',\n 'M6P',\n 'West Toronto',\n 'High Park',\n 'M6P',\n 'West Toronto',\n 'The Junction South',\n 'M7P',\n 'Not assigned',\n 'Not assigned',\n 'M8P',\n 'Not assigned',\n 'Not assigned',\n 'M9P',\n 'Etobicoke',\n 'Westmount',\n 'M1R',\n 'Scarborough',\n 'Maryvale',\n 'M1R',\n 'Scarborough',\n 'Wexford',\n 'M2R',\n 'North York',\n 'Willowdale West',\n 'M3R',\n 'Not assigned',\n 'Not assigned',\n 'M4R',\n 'Central Toronto',\n 'North Toronto West',\n 'M5R',\n 'Central Toronto',\n 'The Annex',\n 'M5R',\n 'Central Toronto',\n 'North Midtown',\n 'M5R',\n 'Central Toronto',\n 'Yorkville',\n 'M6R',\n 'West Toronto',\n 'Parkdale',\n 'M6R',\n 'West Toronto',\n 'Roncesvalles',\n 'M7R',\n 'Mississauga',\n 'Canada Post Gateway Processing Centre',\n 'M8R',\n 'Not assigned',\n 'Not assigned',\n 'M9R',\n 'Etobicoke',\n 'Kingsview Village',\n 'M9R',\n 'Etobicoke',\n 'Martin Grove Gardens',\n 'M9R',\n 'Etobicoke',\n 'Richview Gardens',\n 'M9R',\n 'Etobicoke',\n 'St. Phillips',\n 'M1S',\n 'Scarborough',\n 'Agincourt',\n 'M2S',\n 'Not assigned',\n 'Not assigned',\n 'M3S',\n 'Not assigned',\n 'Not assigned',\n 'M4S',\n 'Central Toronto',\n 'Davisville',\n 'M5S',\n 'Downtown Toronto',\n 'Harbord',\n 'M5S',\n 'Downtown Toronto',\n 'University of Toronto',\n 'M6S',\n 'West Toronto',\n 'Runnymede',\n 'M6S',\n 'West Toronto',\n 'Swansea',\n 'M7S',\n 'Not assigned',\n 'Not assigned',\n 'M8S',\n 'Not assigned',\n 'Not assigned',\n 'M9S',\n 'Not assigned',\n 'Not assigned',\n 'M1T',\n 'Scarborough',\n 'Clarks Corners',\n 'M1T',\n 'Scarborough',\n 'Sullivan',\n 'M1T',\n 'Scarborough',\n \"Tam O'Shanter\",\n 'M2T',\n 'Not assigned',\n 'Not assigned',\n 'M3T',\n 'Not assigned',\n 'Not assigned',\n 'M4T',\n 'Central Toronto',\n 'Moore Park',\n 'M4T',\n 'Central Toronto',\n 'Summerhill East',\n 'M5T',\n 'Downtown Toronto',\n 'Chinatown',\n 'M5T',\n 'Downtown Toronto',\n 'Grange Park',\n 'M5T',\n 'Downtown Toronto',\n 'Kensington Market',\n 'M6T',\n 'Not assigned',\n 'Not assigned',\n 'M7T',\n 'Not assigned',\n 'Not assigned',\n 'M8T',\n 'Not assigned',\n 'Not assigned',\n 'M9T',\n 'Not assigned',\n 'Not assigned',\n 'M1V',\n 'Scarborough',\n 'Agincourt North',\n 'M1V',\n 'Scarborough',\n \"L'Amoreaux East\",\n 'M1V',\n 'Scarborough',\n 'Milliken',\n 'M1V',\n 'Scarborough',\n 'Steeles East',\n 'M2V',\n 'Not assigned',\n 'Not assigned',\n 'M3V',\n 'Not assigned',\n 'Not assigned',\n 'M4V',\n 'Central Toronto',\n 'Deer Park',\n 'M4V',\n 'Central Toronto',\n 'Forest Hill SE',\n 'M4V',\n 'Central Toronto',\n 'Rathnelly',\n 'M4V',\n 'Central Toronto',\n 'South Hill',\n 'M4V',\n 'Central Toronto',\n 'Summerhill West',\n 'M5V',\n 'Downtown Toronto',\n 'CN Tower',\n 'M5V',\n 'Downtown Toronto',\n 'Bathurst Quay',\n 'M5V',\n 'Downtown Toronto',\n 'Island airport',\n 'M5V',\n 'Downtown Toronto',\n 'Harbourfront West',\n 'M5V',\n 'Downtown Toronto',\n 'King and Spadina',\n 'M5V',\n 'Downtown Toronto',\n 'Railway Lands',\n 'M5V',\n 'Downtown Toronto',\n 'South Niagara',\n 'M6V',\n 'Not assigned',\n 'Not assigned',\n 'M7V',\n 'Not assigned',\n 'Not assigned',\n 'M8V',\n 'Etobicoke',\n 'Humber Bay Shores',\n 'M8V',\n 'Etobicoke',\n 'Mimico South',\n 'M8V',\n 'Etobicoke',\n 'New Toronto',\n 'M9V',\n 'Etobicoke',\n 'Albion Gardens',\n 'M9V',\n 'Etobicoke',\n 'Beaumond Heights',\n 'M9V',\n 'Etobicoke',\n 'Humbergate',\n 'M9V',\n 'Etobicoke',\n 'Jamestown',\n 'M9V',\n 'Etobicoke',\n 'Mount Olive',\n 'M9V',\n 'Etobicoke',\n 'Silverstone',\n 'M9V',\n 'Etobicoke',\n 'South Steeles',\n 'M9V',\n 'Etobicoke',\n 'Thistletown',\n 'M1W',\n 'Scarborough',\n \"L'Amoreaux West\",\n 'M1W',\n 'Scarborough',\n 'Steeles West',\n 'M2W',\n 'Not assigned',\n 'Not assigned',\n 'M3W',\n 'Not assigned',\n 'Not assigned',\n 'M4W',\n 'Downtown Toronto',\n 'Rosedale',\n 'M5W',\n 'Downtown Toronto',\n 'Stn A PO Boxes 25 The Esplanade',\n 'M6W',\n 'Not assigned',\n 'Not assigned',\n 'M7W',\n 'Not assigned',\n 'Not assigned',\n 'M8W',\n 'Etobicoke',\n 'Alderwood',\n 'M8W',\n 'Etobicoke',\n 'Long Branch',\n 'M9W',\n 'Etobicoke',\n 'Northwest',\n 'M1X',\n 'Scarborough',\n 'Upper Rouge',\n 'M2X',\n 'Not assigned',\n 'Not assigned',\n 'M3X',\n 'Not assigned',\n 'Not assigned',\n 'M4X',\n 'Downtown Toronto',\n 'Cabbagetown',\n 'M4X',\n 'Downtown Toronto',\n 'St. James Town',\n 'M5X',\n 'Downtown Toronto',\n 'First Canadian Place',\n 'M5X',\n 'Downtown Toronto',\n 'Underground city',\n 'M6X',\n 'Not assigned',\n 'Not assigned',\n 'M7X',\n 'Not assigned',\n 'Not assigned',\n 'M8X',\n 'Etobicoke',\n 'The Kingsway',\n 'M8X',\n 'Etobicoke',\n 'Montgomery Road',\n 'M8X',\n 'Etobicoke',\n 'Old Mill North',\n 'M9X',\n 'Not assigned',\n 'Not assigned',\n 'M1Y',\n 'Not assigned',\n 'Not assigned',\n 'M2Y',\n 'Not assigned',\n 'Not assigned',\n 'M3Y',\n 'Not assigned',\n 'Not assigned',\n 'M4Y',\n 'Downtown Toronto',\n 'Church and Wellesley',\n 'M5Y',\n 'Not assigned',\n 'Not assigned',\n 'M6Y',\n 'Not assigned',\n 'Not assigned',\n 'M7Y',\n 'East Toronto',\n 'Business reply mail Processing Centre969 Eastern',\n 'M8Y',\n 'Etobicoke',\n 'Humber Bay',\n 'M8Y',\n 'Etobicoke',\n \"King's Mill Park\",\n 'M8Y',\n 'Etobicoke',\n 'Kingsway Park South East',\n 'M8Y',\n 'Etobicoke',\n 'Mimico NE',\n 'M8Y',\n 'Etobicoke',\n 'Old Mill South',\n 'M8Y',\n 'Etobicoke',\n 'The Queensway East',\n 'M8Y',\n 'Etobicoke',\n 'Royal York South East',\n 'M8Y',\n 'Etobicoke',\n 'Sunnylea',\n 'M9Y',\n 'Not assigned',\n 'Not assigned',\n 'M1Z',\n 'Not assigned',\n 'Not assigned',\n 'M2Z',\n 'Not assigned',\n 'Not assigned',\n 'M3Z',\n 'Not assigned',\n 'Not assigned',\n 'M4Z',\n 'Not assigned',\n 'Not assigned',\n 'M5Z',\n 'Not assigned',\n 'Not assigned',\n 'M6Z',\n 'Not assigned',\n 'Not assigned',\n 'M7Z',\n 'Not assigned',\n 'Not assigned',\n 'M8Z',\n 'Etobicoke',\n 'Kingsway Park South West',\n 'M8Z',\n 'Etobicoke',\n 'Mimico NW',\n 'M8Z',\n 'Etobicoke',\n 'The Queensway West',\n 'M8Z',\n 'Etobicoke',\n 'Royal York South West',\n 'M8Z',\n 'Etobicoke',\n 'South of Bloor',\n 'M9Z',\n 'Not assigned',\n 'Not assigned']"
                    }, 
                    "output_type": "execute_result"
                }
            ], 
            "source": "ListRaw = []\nfor row in table.find_all('tr'):\n    for cell in row.find_all('td'):\n        ListRaw.append(cell.text)\n\nList = []\nfor cell in ListRaw:\n    List.append(cell.strip('\\n'))   \n    "
        }, 
        {
            "source": "## Create Dict", 
            "cell_type": "markdown", 
            "metadata": {}
        }, 
        {
            "execution_count": 129, 
            "cell_type": "code", 
            "metadata": {}, 
            "outputs": [], 
            "source": "Dict = {}"
        }, 
        {
            "execution_count": 130, 
            "cell_type": "code", 
            "metadata": {}, 
            "outputs": [], 
            "source": "Dict[HeadList[0]] = List[::3]\nDict[HeadList[1]] = List[1::3]\nDict[HeadList[2]] = List[2::3]"
        }, 
        {
            "execution_count": 137, 
            "cell_type": "code", 
            "metadata": {}, 
            "outputs": [
                {
                    "execution_count": 137, 
                    "metadata": {}, 
                    "data": {
                        "text/html": "<div>\n<style scoped>\n    .dataframe tbody tr th:only-of-type {\n        vertical-align: middle;\n    }\n\n    .dataframe tbody tr th {\n        vertical-align: top;\n    }\n\n    .dataframe thead th {\n        text-align: right;\n    }\n</style>\n<table border=\"1\" class=\"dataframe\">\n  <thead>\n    <tr style=\"text-align: right;\">\n      <th></th>\n      <th>Postcode</th>\n      <th>Borough</th>\n      <th>Neighbourhood</th>\n    </tr>\n  </thead>\n  <tbody>\n    <tr>\n      <th>0</th>\n      <td>M1A</td>\n      <td>Not assigned</td>\n      <td>Not assigned</td>\n    </tr>\n    <tr>\n      <th>1</th>\n      <td>M2A</td>\n      <td>Not assigned</td>\n      <td>Not assigned</td>\n    </tr>\n    <tr>\n      <th>2</th>\n      <td>M3A</td>\n      <td>North York</td>\n      <td>Parkwoods</td>\n    </tr>\n    <tr>\n      <th>3</th>\n      <td>M4A</td>\n      <td>North York</td>\n      <td>Victoria Village</td>\n    </tr>\n    <tr>\n      <th>4</th>\n      <td>M5A</td>\n      <td>Downtown Toronto</td>\n      <td>Harbourfront</td>\n    </tr>\n    <tr>\n      <th>5</th>\n      <td>M5A</td>\n      <td>Downtown Toronto</td>\n      <td>Regent Park</td>\n    </tr>\n    <tr>\n      <th>6</th>\n      <td>M6A</td>\n      <td>North York</td>\n      <td>Lawrence Heights</td>\n    </tr>\n    <tr>\n      <th>7</th>\n      <td>M6A</td>\n      <td>North York</td>\n      <td>Lawrence Manor</td>\n    </tr>\n    <tr>\n      <th>8</th>\n      <td>M7A</td>\n      <td>Queen's Park</td>\n      <td>Not assigned</td>\n    </tr>\n    <tr>\n      <th>9</th>\n      <td>M8A</td>\n      <td>Not assigned</td>\n      <td>Not assigned</td>\n    </tr>\n    <tr>\n      <th>10</th>\n      <td>M9A</td>\n      <td>Etobicoke</td>\n      <td>Islington Avenue</td>\n    </tr>\n    <tr>\n      <th>11</th>\n      <td>M1B</td>\n      <td>Scarborough</td>\n      <td>Rouge</td>\n    </tr>\n    <tr>\n      <th>12</th>\n      <td>M1B</td>\n      <td>Scarborough</td>\n      <td>Malvern</td>\n    </tr>\n    <tr>\n      <th>13</th>\n      <td>M2B</td>\n      <td>Not assigned</td>\n      <td>Not assigned</td>\n    </tr>\n    <tr>\n      <th>14</th>\n      <td>M3B</td>\n      <td>North York</td>\n      <td>Don Mills North</td>\n    </tr>\n    <tr>\n      <th>15</th>\n      <td>M4B</td>\n      <td>East York</td>\n      <td>Woodbine Gardens</td>\n    </tr>\n    <tr>\n      <th>16</th>\n      <td>M4B</td>\n      <td>East York</td>\n      <td>Parkview Hill</td>\n    </tr>\n    <tr>\n      <th>17</th>\n      <td>M5B</td>\n      <td>Downtown Toronto</td>\n      <td>Ryerson</td>\n    </tr>\n    <tr>\n      <th>18</th>\n      <td>M5B</td>\n      <td>Downtown Toronto</td>\n      <td>Garden District</td>\n    </tr>\n    <tr>\n      <th>19</th>\n      <td>M6B</td>\n      <td>North York</td>\n      <td>Glencairn</td>\n    </tr>\n    <tr>\n      <th>20</th>\n      <td>M7B</td>\n      <td>Not assigned</td>\n      <td>Not assigned</td>\n    </tr>\n    <tr>\n      <th>21</th>\n      <td>M8B</td>\n      <td>Not assigned</td>\n      <td>Not assigned</td>\n    </tr>\n    <tr>\n      <th>22</th>\n      <td>M9B</td>\n      <td>Etobicoke</td>\n      <td>Cloverdale</td>\n    </tr>\n    <tr>\n      <th>23</th>\n      <td>M9B</td>\n      <td>Etobicoke</td>\n      <td>Islington</td>\n    </tr>\n    <tr>\n      <th>24</th>\n      <td>M9B</td>\n      <td>Etobicoke</td>\n      <td>Martin Grove</td>\n    </tr>\n    <tr>\n      <th>25</th>\n      <td>M9B</td>\n      <td>Etobicoke</td>\n      <td>Princess Gardens</td>\n    </tr>\n    <tr>\n      <th>26</th>\n      <td>M9B</td>\n      <td>Etobicoke</td>\n      <td>West Deane Park</td>\n    </tr>\n    <tr>\n      <th>27</th>\n      <td>M1C</td>\n      <td>Scarborough</td>\n      <td>Highland Creek</td>\n    </tr>\n    <tr>\n      <th>28</th>\n      <td>M1C</td>\n      <td>Scarborough</td>\n      <td>Rouge Hill</td>\n    </tr>\n    <tr>\n      <th>29</th>\n      <td>M1C</td>\n      <td>Scarborough</td>\n      <td>Port Union</td>\n    </tr>\n    <tr>\n      <th>...</th>\n      <td>...</td>\n      <td>...</td>\n      <td>...</td>\n    </tr>\n    <tr>\n      <th>259</th>\n      <td>M9X</td>\n      <td>Not assigned</td>\n      <td>Not assigned</td>\n    </tr>\n    <tr>\n      <th>260</th>\n      <td>M1Y</td>\n      <td>Not assigned</td>\n      <td>Not assigned</td>\n    </tr>\n    <tr>\n      <th>261</th>\n      <td>M2Y</td>\n      <td>Not assigned</td>\n      <td>Not assigned</td>\n    </tr>\n    <tr>\n      <th>262</th>\n      <td>M3Y</td>\n      <td>Not assigned</td>\n      <td>Not assigned</td>\n    </tr>\n    <tr>\n      <th>263</th>\n      <td>M4Y</td>\n      <td>Downtown Toronto</td>\n      <td>Church and Wellesley</td>\n    </tr>\n    <tr>\n      <th>264</th>\n      <td>M5Y</td>\n      <td>Not assigned</td>\n      <td>Not assigned</td>\n    </tr>\n    <tr>\n      <th>265</th>\n      <td>M6Y</td>\n      <td>Not assigned</td>\n      <td>Not assigned</td>\n    </tr>\n    <tr>\n      <th>266</th>\n      <td>M7Y</td>\n      <td>East Toronto</td>\n      <td>Business reply mail Processing Centre969 Eastern</td>\n    </tr>\n    <tr>\n      <th>267</th>\n      <td>M8Y</td>\n      <td>Etobicoke</td>\n      <td>Humber Bay</td>\n    </tr>\n    <tr>\n      <th>268</th>\n      <td>M8Y</td>\n      <td>Etobicoke</td>\n      <td>King's Mill Park</td>\n    </tr>\n    <tr>\n      <th>269</th>\n      <td>M8Y</td>\n      <td>Etobicoke</td>\n      <td>Kingsway Park South East</td>\n    </tr>\n    <tr>\n      <th>270</th>\n      <td>M8Y</td>\n      <td>Etobicoke</td>\n      <td>Mimico NE</td>\n    </tr>\n    <tr>\n      <th>271</th>\n      <td>M8Y</td>\n      <td>Etobicoke</td>\n      <td>Old Mill South</td>\n    </tr>\n    <tr>\n      <th>272</th>\n      <td>M8Y</td>\n      <td>Etobicoke</td>\n      <td>The Queensway East</td>\n    </tr>\n    <tr>\n      <th>273</th>\n      <td>M8Y</td>\n      <td>Etobicoke</td>\n      <td>Royal York South East</td>\n    </tr>\n    <tr>\n      <th>274</th>\n      <td>M8Y</td>\n      <td>Etobicoke</td>\n      <td>Sunnylea</td>\n    </tr>\n    <tr>\n      <th>275</th>\n      <td>M9Y</td>\n      <td>Not assigned</td>\n      <td>Not assigned</td>\n    </tr>\n    <tr>\n      <th>276</th>\n      <td>M1Z</td>\n      <td>Not assigned</td>\n      <td>Not assigned</td>\n    </tr>\n    <tr>\n      <th>277</th>\n      <td>M2Z</td>\n      <td>Not assigned</td>\n      <td>Not assigned</td>\n    </tr>\n    <tr>\n      <th>278</th>\n      <td>M3Z</td>\n      <td>Not assigned</td>\n      <td>Not assigned</td>\n    </tr>\n    <tr>\n      <th>279</th>\n      <td>M4Z</td>\n      <td>Not assigned</td>\n      <td>Not assigned</td>\n    </tr>\n    <tr>\n      <th>280</th>\n      <td>M5Z</td>\n      <td>Not assigned</td>\n      <td>Not assigned</td>\n    </tr>\n    <tr>\n      <th>281</th>\n      <td>M6Z</td>\n      <td>Not assigned</td>\n      <td>Not assigned</td>\n    </tr>\n    <tr>\n      <th>282</th>\n      <td>M7Z</td>\n      <td>Not assigned</td>\n      <td>Not assigned</td>\n    </tr>\n    <tr>\n      <th>283</th>\n      <td>M8Z</td>\n      <td>Etobicoke</td>\n      <td>Kingsway Park South West</td>\n    </tr>\n    <tr>\n      <th>284</th>\n      <td>M8Z</td>\n      <td>Etobicoke</td>\n      <td>Mimico NW</td>\n    </tr>\n    <tr>\n      <th>285</th>\n      <td>M8Z</td>\n      <td>Etobicoke</td>\n      <td>The Queensway West</td>\n    </tr>\n    <tr>\n      <th>286</th>\n      <td>M8Z</td>\n      <td>Etobicoke</td>\n      <td>Royal York South West</td>\n    </tr>\n    <tr>\n      <th>287</th>\n      <td>M8Z</td>\n      <td>Etobicoke</td>\n      <td>South of Bloor</td>\n    </tr>\n    <tr>\n      <th>288</th>\n      <td>M9Z</td>\n      <td>Not assigned</td>\n      <td>Not assigned</td>\n    </tr>\n  </tbody>\n</table>\n<p>289 rows \u00d7 3 columns</p>\n</div>", 
                        "text/plain": "    Postcode           Borough  \\\n0        M1A      Not assigned   \n1        M2A      Not assigned   \n2        M3A        North York   \n3        M4A        North York   \n4        M5A  Downtown Toronto   \n5        M5A  Downtown Toronto   \n6        M6A        North York   \n7        M6A        North York   \n8        M7A      Queen's Park   \n9        M8A      Not assigned   \n10       M9A         Etobicoke   \n11       M1B       Scarborough   \n12       M1B       Scarborough   \n13       M2B      Not assigned   \n14       M3B        North York   \n15       M4B         East York   \n16       M4B         East York   \n17       M5B  Downtown Toronto   \n18       M5B  Downtown Toronto   \n19       M6B        North York   \n20       M7B      Not assigned   \n21       M8B      Not assigned   \n22       M9B         Etobicoke   \n23       M9B         Etobicoke   \n24       M9B         Etobicoke   \n25       M9B         Etobicoke   \n26       M9B         Etobicoke   \n27       M1C       Scarborough   \n28       M1C       Scarborough   \n29       M1C       Scarborough   \n..       ...               ...   \n259      M9X      Not assigned   \n260      M1Y      Not assigned   \n261      M2Y      Not assigned   \n262      M3Y      Not assigned   \n263      M4Y  Downtown Toronto   \n264      M5Y      Not assigned   \n265      M6Y      Not assigned   \n266      M7Y      East Toronto   \n267      M8Y         Etobicoke   \n268      M8Y         Etobicoke   \n269      M8Y         Etobicoke   \n270      M8Y         Etobicoke   \n271      M8Y         Etobicoke   \n272      M8Y         Etobicoke   \n273      M8Y         Etobicoke   \n274      M8Y         Etobicoke   \n275      M9Y      Not assigned   \n276      M1Z      Not assigned   \n277      M2Z      Not assigned   \n278      M3Z      Not assigned   \n279      M4Z      Not assigned   \n280      M5Z      Not assigned   \n281      M6Z      Not assigned   \n282      M7Z      Not assigned   \n283      M8Z         Etobicoke   \n284      M8Z         Etobicoke   \n285      M8Z         Etobicoke   \n286      M8Z         Etobicoke   \n287      M8Z         Etobicoke   \n288      M9Z      Not assigned   \n\n                                        Neighbourhood  \n0                                        Not assigned  \n1                                        Not assigned  \n2                                           Parkwoods  \n3                                    Victoria Village  \n4                                        Harbourfront  \n5                                         Regent Park  \n6                                    Lawrence Heights  \n7                                      Lawrence Manor  \n8                                        Not assigned  \n9                                        Not assigned  \n10                                   Islington Avenue  \n11                                              Rouge  \n12                                            Malvern  \n13                                       Not assigned  \n14                                    Don Mills North  \n15                                   Woodbine Gardens  \n16                                      Parkview Hill  \n17                                            Ryerson  \n18                                    Garden District  \n19                                          Glencairn  \n20                                       Not assigned  \n21                                       Not assigned  \n22                                         Cloverdale  \n23                                          Islington  \n24                                       Martin Grove  \n25                                   Princess Gardens  \n26                                    West Deane Park  \n27                                     Highland Creek  \n28                                         Rouge Hill  \n29                                         Port Union  \n..                                                ...  \n259                                      Not assigned  \n260                                      Not assigned  \n261                                      Not assigned  \n262                                      Not assigned  \n263                              Church and Wellesley  \n264                                      Not assigned  \n265                                      Not assigned  \n266  Business reply mail Processing Centre969 Eastern  \n267                                        Humber Bay  \n268                                  King's Mill Park  \n269                          Kingsway Park South East  \n270                                         Mimico NE  \n271                                    Old Mill South  \n272                                The Queensway East  \n273                             Royal York South East  \n274                                          Sunnylea  \n275                                      Not assigned  \n276                                      Not assigned  \n277                                      Not assigned  \n278                                      Not assigned  \n279                                      Not assigned  \n280                                      Not assigned  \n281                                      Not assigned  \n282                                      Not assigned  \n283                          Kingsway Park South West  \n284                                         Mimico NW  \n285                                The Queensway West  \n286                             Royal York South West  \n287                                    South of Bloor  \n288                                      Not assigned  \n\n[289 rows x 3 columns]"
                    }, 
                    "output_type": "execute_result"
                }
            ], 
            "source": "df = pd.DataFrame(Dict)\ndf = df[['Postcode','Borough', 'Neighbourhood']]\ndf"
        }, 
        {
            "execution_count": 138, 
            "cell_type": "code", 
            "metadata": {}, 
            "outputs": [
                {
                    "output_type": "stream", 
                    "name": "stdout", 
                    "text": "(289, 3)\n"
                }
            ], 
            "source": "print(df.shape)"
        }, 
        {
            "execution_count": null, 
            "cell_type": "code", 
            "metadata": {}, 
            "outputs": [], 
            "source": ""
        }
    ], 
    "metadata": {
        "kernelspec": {
            "display_name": "Python 3.5", 
            "name": "python3", 
            "language": "python"
        }, 
        "language_info": {
            "mimetype": "text/x-python", 
            "nbconvert_exporter": "python", 
            "version": "3.5.5", 
            "name": "python", 
            "file_extension": ".py", 
            "pygments_lexer": "ipython3", 
            "codemirror_mode": {
                "version": 3, 
                "name": "ipython"
            }
        }
    }, 
    "nbformat": 4
}